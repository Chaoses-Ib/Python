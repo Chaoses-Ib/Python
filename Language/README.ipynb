{
 "cells": [
  {
   "cell_type": "markdown",
   "metadata": {},
   "source": [
    "## Code generation"
   ]
  },
  {
   "cell_type": "code",
   "execution_count": null,
   "metadata": {},
   "outputs": [],
   "source": [
    "import ast"
   ]
  },
  {
   "cell_type": "code",
   "execution_count": 4,
   "metadata": {},
   "outputs": [
    {
     "name": "stdout",
     "output_type": "stream",
     "text": [
      "print('Hello world')\n",
      "num1 = 1.5\n",
      "num2 = 6.3\n",
      "sum = num1 + num2\n",
      "print('The sum of {0} and {1} is {2}'.format(num1, num2, sum))\n",
      "num = 8\n",
      "num_sqrt = num ** 0.5\n",
      "print('The square root of %0.3f is %0.3f' % (num, num_sqrt))\n"
     ]
    }
   ],
   "source": [
    "t = ast.parse('''print(\"Hello world\")\n",
    "\n",
    "num1 = 1.5\n",
    "num2 = 6.3\n",
    "\n",
    "# Add two numbers\n",
    "sum = num1 + num2\n",
    "\n",
    "# Display the sum\n",
    "print('The sum of {0} and {1} is {2}'.format(num1, num2, sum))\n",
    "\n",
    "# Note: change this value for a different result\n",
    "num = 8\n",
    "\n",
    "# To take the input from the user\n",
    "#num = float(input('Enter a number: '))\n",
    "\n",
    "num_sqrt = num ** 0.5\n",
    "print('The square root of %0.3f is %0.3f'%(num ,num_sqrt))\n",
    "\n",
    "''')\n",
    "print(ast.unparse(t))"
   ]
  },
  {
   "cell_type": "code",
   "execution_count": 7,
   "metadata": {},
   "outputs": [
    {
     "name": "stdout",
     "output_type": "stream",
     "text": [
      "a = 'a\"b\"c'\n",
      "a = \"a'b'c\"\n",
      "a = 'a\"b\"c'\n",
      "a = 'a\\nb'\n"
     ]
    }
   ],
   "source": [
    "t = ast.parse('''\n",
    "a = 'a\"b\"c'\n",
    "a = \"a'b'c\"\n",
    "a = \\'\\'\\'a\"b\"c\\'\\'\\'\n",
    "a = \"\"\"a\n",
    "b\"\"\"\n",
    "''')\n",
    "print(ast.unparse(t))"
   ]
  }
 ],
 "metadata": {
  "kernelspec": {
   "display_name": "base",
   "language": "python",
   "name": "python3"
  },
  "language_info": {
   "codemirror_mode": {
    "name": "ipython",
    "version": 3
   },
   "file_extension": ".py",
   "mimetype": "text/x-python",
   "name": "python",
   "nbconvert_exporter": "python",
   "pygments_lexer": "ipython3",
   "version": "3.9.1"
  }
 },
 "nbformat": 4,
 "nbformat_minor": 2
}
